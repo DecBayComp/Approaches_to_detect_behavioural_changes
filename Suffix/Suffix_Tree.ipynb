{
 "cells": [
  {
   "cell_type": "markdown",
   "id": "baec2fe3",
   "metadata": {
    "toc": true
   },
   "source": [
    "<h1>Table of Contents<span class=\"tocSkip\"></span></h1>\n",
    "<div class=\"toc\"><ul class=\"toc-item\"><li><span><a href=\"#IMPORT\" data-toc-modified-id=\"IMPORT-1\"><span class=\"toc-item-num\">1&nbsp;&nbsp;</span>IMPORT</a></span></li><li><span><a href=\"#FUNCTIONS\" data-toc-modified-id=\"FUNCTIONS-2\"><span class=\"toc-item-num\">2&nbsp;&nbsp;</span>FUNCTIONS</a></span></li><li><span><a href=\"#Suffix-Tree\" data-toc-modified-id=\"Suffix-Tree-3\"><span class=\"toc-item-num\">3&nbsp;&nbsp;</span>Suffix Tree</a></span><ul class=\"toc-item\"><li><span><a href=\"#Load-Data\" data-toc-modified-id=\"Load-Data-3.1\"><span class=\"toc-item-num\">3.1&nbsp;&nbsp;</span>Load Data</a></span></li><li><span><a href=\"#Creation-of-the-tree\" data-toc-modified-id=\"Creation-of-the-tree-3.2\"><span class=\"toc-item-num\">3.2&nbsp;&nbsp;</span>Creation of the tree</a></span></li><li><span><a href=\"#Give-node-liste\" data-toc-modified-id=\"Give-node-liste-3.3\"><span class=\"toc-item-num\">3.3&nbsp;&nbsp;</span>Give node liste</a></span></li></ul></li><li><span><a href=\"#Clustering\" data-toc-modified-id=\"Clustering-4\"><span class=\"toc-item-num\">4&nbsp;&nbsp;</span>Clustering</a></span><ul class=\"toc-item\"><li><span><a href=\"#Creation-vector-weight\" data-toc-modified-id=\"Creation-vector-weight-4.1\"><span class=\"toc-item-num\">4.1&nbsp;&nbsp;</span>Creation vector weight</a></span><ul class=\"toc-item\"><li><span><a href=\"#tf---idf,-frequency–inverse-document-frequency\" data-toc-modified-id=\"tf---idf,-frequency–inverse-document-frequency-4.1.1\"><span class=\"toc-item-num\">4.1.1&nbsp;&nbsp;</span>tf - idf, frequency–inverse document frequency</a></span></li><li><span><a href=\"#Matrix-distance\" data-toc-modified-id=\"Matrix-distance-4.1.2\"><span class=\"toc-item-num\">4.1.2&nbsp;&nbsp;</span>Matrix distance</a></span></li></ul></li><li><span><a href=\"#Hierarchical-clustering\" data-toc-modified-id=\"Hierarchical-clustering-4.2\"><span class=\"toc-item-num\">4.2&nbsp;&nbsp;</span>Hierarchical clustering</a></span></li><li><span><a href=\"#Choose-the-number-of-cluster\" data-toc-modified-id=\"Choose-the-number-of-cluster-4.3\"><span class=\"toc-item-num\">4.3&nbsp;&nbsp;</span>Choose the number of cluster</a></span></li><li><span><a href=\"#Plot-the-clustering\" data-toc-modified-id=\"Plot-the-clustering-4.4\"><span class=\"toc-item-num\">4.4&nbsp;&nbsp;</span>Plot the clustering</a></span></li></ul></li><li><span><a href=\"#Show-sequences\" data-toc-modified-id=\"Show-sequences-5\"><span class=\"toc-item-num\">5&nbsp;&nbsp;</span>Show sequences</a></span></li></ul></div>"
   ]
  },
  {
   "cell_type": "markdown",
   "id": "f21d39f8",
   "metadata": {},
   "source": [
    "# IMPORT"
   ]
  },
  {
   "cell_type": "code",
   "execution_count": 1,
   "id": "c430e89d",
   "metadata": {
    "ExecuteTime": {
     "end_time": "2023-10-04T12:16:48.814099Z",
     "start_time": "2023-10-04T12:16:44.365130Z"
    }
   },
   "outputs": [],
   "source": [
    "\n",
    "import os\n",
    "import glob\n",
    "import sys\n",
    "import numpy as np\n",
    "import pandas as pd\n",
    "\n",
    "import seaborn as sns\n",
    "from scipy.cluster.hierarchy import linkage, dendrogram, to_tree\n",
    "from scipy.spatial.distance import pdist\n",
    "from scipy.spatial.distance import cdist as cdist\n",
    "\n",
    "from suffix_tree import Tree\n",
    "\n",
    "import sklearn as sk\n",
    "\n",
    "\n",
    "from sklearn.metrics import pairwise_distances\n",
    "from tqdm import tqdm\n",
    "from sklearn.cluster import AffinityPropagation\n",
    "from numpy.linalg import eig\n",
    "\n",
    "from sklearn import preprocessing\n",
    "from scipy.spatial.distance import pdist\n",
    "from scipy.spatial.distance import squareform\n",
    "\n",
    "from scipy.cluster.hierarchy import fcluster\n",
    "\n",
    "from itertools import groupby\n",
    "import itertools\n",
    "\n",
    "from sklearn.metrics import silhouette_score\n",
    "\n",
    "import pickle\n",
    "\n",
    "\n"
   ]
  },
  {
   "cell_type": "code",
   "execution_count": 5,
   "id": "c8f5e646",
   "metadata": {
    "ExecuteTime": {
     "end_time": "2023-10-04T12:20:08.607423Z",
     "start_time": "2023-10-04T12:20:08.595658Z"
    }
   },
   "outputs": [
    {
     "name": "stdout",
     "output_type": "stream",
     "text": [
      "/\n"
     ]
    }
   ],
   "source": [
    "cd ../../../../../../"
   ]
  },
  {
   "cell_type": "markdown",
   "id": "06fcfd87",
   "metadata": {},
   "source": [
    "# FUNCTIONS"
   ]
  },
  {
   "cell_type": "code",
   "execution_count": 21,
   "id": "5bdd1109",
   "metadata": {
    "ExecuteTime": {
     "end_time": "2023-10-04T12:32:41.840585Z",
     "start_time": "2023-10-04T12:32:41.835167Z"
    }
   },
   "outputs": [],
   "source": [
    "def load_data():\n",
    "    path_data    ='../data/raw/t5/'\n",
    "    name_dataset = 't5_during_UAS_TNT.csv'           \n",
    "    data  = pd.read_csv(path_data + name_dataset, sep=',')\n",
    "    data.rename(columns={'neuron': 'line', 'exhaustive 6':'time_6', \\\n",
    "                     'compact 6':'seq_6','exhaustive 12':'time_12', \\\n",
    "                         'compact 12':'seq_12' },inplace=True)\n",
    "    return data"
   ]
  },
  {
   "cell_type": "code",
   "execution_count": 3,
   "id": "a9f5490e",
   "metadata": {
    "ExecuteTime": {
     "end_time": "2023-10-04T12:18:21.262558Z",
     "start_time": "2023-10-04T12:18:21.255091Z"
    }
   },
   "outputs": [],
   "source": [
    "def clean_z_temporal_cut(data, time_cut_s):\n",
    "    \n",
    "    dt       = 0.1\n",
    "    line     = data['line']\n",
    "    seq_6    = data['time_6'].values\n",
    "    seq_12   = data['time_12'].values\n",
    "    \n",
    "    ## remove z\n",
    "    index_6    = []\n",
    "    index_cut  =int( np.round(time_cut_s/dt)+1 )\n",
    "    \n",
    "    ## index to remove z\n",
    "    for i,stuff in enumerate(seq_6):\n",
    "        if 'z' not in stuff:\n",
    "            index_6.append(i) \n",
    "            \n",
    "    ### filtre pour avoir moins de point\n",
    "    seq_6_z   = seq_6[index_6]\n",
    "    seq_12_z  = seq_12[index_6]\n",
    "    line_6_z  = line[index_6] \n",
    "\n",
    "    ## remove first points \n",
    "    index_init = 10\n",
    "    \n",
    "    \n",
    "    for indice,stuff in enumerate(seq_6_z):\n",
    "        stuff           = stuff[index_init: index_cut]\n",
    "        seq_6_z[indice] = (''.join(i for i, _ in groupby(stuff)))\n",
    "    \n",
    "    for indice,stuff in enumerate(seq_12_z):\n",
    "        stuff            = stuff[index_init: index_cut]\n",
    "        seq_12_z[indice] = (''.join(i for i, _ in groupby(stuff)))\n",
    "        \n",
    "    data  = pd.DataFrame({'line':line_6_z , 'seq_6' : seq_6_z, 'seq_12': seq_12_z})\n",
    "\n",
    "    return data "
   ]
  },
  {
   "cell_type": "code",
   "execution_count": 4,
   "id": "7907dff2",
   "metadata": {
    "ExecuteTime": {
     "end_time": "2023-10-04T12:19:17.492412Z",
     "start_time": "2023-10-04T12:19:17.482135Z"
    }
   },
   "outputs": [],
   "source": [
    "def show_weight_sequences(data_cluster,  data_out,Vector_weight, nb_dict, mode):\n",
    "    nb_motif = 15\n",
    "    tt = ['Clus']\n",
    "    for i in range(nb_motif):\n",
    "        tt.append('motif_' + str(i))\n",
    "    target_len = len(tt)\n",
    "    table = PrettyTable(tt)\n",
    "    del tt\n",
    "    \n",
    "    all_weight = pd.DataFrame(np.zeros((len(data_cluster),len(Vector_weight.iloc[0]))),index=data_cluster.index,columns=Vector_weight.columns)\n",
    "    for idx in range(len(data_cluster)):\n",
    "        all_weight.loc[idx]=list(Vector_weight.loc[data_cluster.loc[idx,'line']].sum(axis=0)/len(data_cluster.loc[idx]['line']))\n",
    "\n",
    "    for seq in all_weight.columns:\n",
    "\n",
    "        all_weight.loc['Moy',seq]= np.mean(all_weight[seq].iloc[:-2])    \n",
    "    All_weight = copy.deepcopy(all_weight)\n",
    "\n",
    "    nb_tot = len(data_cluster.index)\n",
    "    mode = 'motif'\n",
    "    Liste = []\n",
    "    for k in range(nb_tot):\n",
    "        weight = All_weight.loc[k].sort_values(ascending=False)\n",
    "        number_cluster = k\n",
    "        if nb_dict == 6:\n",
    "            name_out = 'seq_6'\n",
    "        else:\n",
    "            name_out = 'seq_12'\n",
    "        ttt       = ['clus_' + str(k)]\n",
    "        local_len =  min(nb_motif,len(all_weight.iloc[0]),nb_motif+1)\n",
    "\n",
    "        for kk in range(local_len):\n",
    "            if weight.iloc[kk] > 0.0:\n",
    "                if mode   == 'weight':\n",
    "                    ttt.append(weight.index[kk].replace(\" \", \"\") + ' ' + str(weight.iloc[kk])[0:4])\n",
    "                elif mode == 'motif':\n",
    "                    ttt.append(weight.index[kk].replace(\" \", \"\"))\n",
    "            else:\n",
    "                ttt.append('NA')\n",
    "\n",
    "        table.add_row(ttt)\n",
    "        Liste.append(ttt)\n",
    "    df = pd.DataFrame.from_records(Liste)    \n",
    "    print(table)\n",
    "    return df"
   ]
  },
  {
   "cell_type": "code",
   "execution_count": 36,
   "id": "55a7488e",
   "metadata": {
    "ExecuteTime": {
     "end_time": "2023-10-04T12:43:08.518263Z",
     "start_time": "2023-10-04T12:43:08.513128Z"
    }
   },
   "outputs": [],
   "source": [
    "def give_node_liste(tree,data,Line):\n",
    "\n",
    "    def f (node):\n",
    "        \"\"\" Compute a nodemap \"\"\"\n",
    "        L=[a.split(' ')[0] for a in list(node.compute_C())]\n",
    "        liste_count=[L.count(l) for l in Line]\n",
    "        nb_leaf = -1\n",
    "        if len(set(L))>1:\n",
    "            if str(node.path).replace(' ', '') in list(data['seq_6'][:]):\n",
    "                Node.append([node.path,liste_count,(len(set(L)))])\n",
    "\n",
    "    Node = []\n",
    "    tree.root.pre_order(f)\n",
    "    return Node"
   ]
  },
  {
   "cell_type": "code",
   "execution_count": 37,
   "id": "5194c2f2",
   "metadata": {
    "ExecuteTime": {
     "end_time": "2023-10-04T12:47:07.457434Z",
     "start_time": "2023-10-04T12:47:07.453943Z"
    }
   },
   "outputs": [],
   "source": [
    "def hierarchical_clusters(data = 'data', nb_dict=6, matrice_distance='matrice_distance', nb_cluster_max=20):\n",
    "    \n",
    "    if nb_dict==6:\n",
    "        name_col = 'seq_6'\n",
    "    else:\n",
    "        name_col = 'seq_12' \n",
    "        \n",
    "    data_out           = data.copy(deep=True)\n",
    "    data_out           = data_out.groupby('line')[name_col].apply(list).reset_index()\n",
    "    Z   = linkage(matrice_distance, 'ward')\n",
    "    \n",
    "    for tt in range(2,nb_cluster_max + 1):\n",
    "        assignation = fcluster(Z,t=tt,  criterion='distance')\n",
    "        t_str = 'cluster_' + str(tt)\n",
    "        data_out[t_str] = assignation\n",
    "    \n",
    "    return data_out, Z"
   ]
  },
  {
   "cell_type": "code",
   "execution_count": null,
   "id": "0f1e99fc",
   "metadata": {},
   "outputs": [],
   "source": [
    "def give_data_cluster(nb_cluster,data_out):\n",
    "    \n",
    "    NB_cluster = len(set(data_out['cluster_'+str(nb_cluster)]))\n",
    "    data_cluster = pd.DataFrame({'cluster':np.arange((NB_cluster)),'line':[[] for i in range(NB_cluster)]})\n",
    "    \n",
    "    for j in set(data_out['cluster_'+str(nb_cluster)]):\n",
    "        il = list(data_out[data_out['cluster_'+str(nb_cluster)]==j]['line'])\n",
    "        data_cluster.loc[j-1,'line'].extend(il)\n",
    "          \n",
    "    return data_cluster"
   ]
  },
  {
   "cell_type": "code",
   "execution_count": null,
   "id": "801a99f8",
   "metadata": {},
   "outputs": [],
   "source": [
    "def give_data_cluster(nb_cluster,data_out):\n",
    "    data_cluster = pd.DataFrame({'cluster':np.arange((nb_cluster)),'line':[[] for i in range(nb_cluster)]})\n",
    "    \n",
    "    for j in set(data_out['cluster_'+str(nb_cluster)]):\n",
    "        il = list(data_out[data_out['cluster_'+str(nb_cluster)]==j]['line'])\n",
    "        data_cluster.loc[j,'line'].extend(il)\n",
    "          \n",
    "    return data_cluster"
   ]
  },
  {
   "cell_type": "markdown",
   "id": "818f1e83",
   "metadata": {},
   "source": [
    "# Suffix Tree"
   ]
  },
  {
   "cell_type": "markdown",
   "id": "00175161",
   "metadata": {},
   "source": [
    "## Load Data"
   ]
  },
  {
   "cell_type": "code",
   "execution_count": 26,
   "id": "2875c49a",
   "metadata": {
    "ExecuteTime": {
     "end_time": "2023-10-04T12:38:47.547913Z",
     "start_time": "2023-10-04T12:38:46.474916Z"
    }
   },
   "outputs": [],
   "source": [
    "data = load_data()"
   ]
  },
  {
   "cell_type": "code",
   "execution_count": 30,
   "id": "005be060",
   "metadata": {
    "ExecuteTime": {
     "end_time": "2023-10-04T12:39:03.322950Z",
     "start_time": "2023-10-04T12:39:03.011861Z"
    }
   },
   "outputs": [],
   "source": [
    "time_cut       = 4 # seconds\n",
    "nb_dict        = 6 # number of character in the dictionnary \n",
    "nb_max_cluster = 100 # \n",
    "data           = clean_z_temporal_cut(data=data,time_cut_s=time_cut)\n",
    "nb_line        = len(data.index)"
   ]
  },
  {
   "cell_type": "markdown",
   "id": "27ef2351",
   "metadata": {},
   "source": [
    "## Creation of the tree"
   ]
  },
  {
   "cell_type": "code",
   "execution_count": 34,
   "id": "35365421",
   "metadata": {
    "ExecuteTime": {
     "end_time": "2023-10-04T12:40:18.584659Z",
     "start_time": "2023-10-04T12:40:18.573078Z"
    }
   },
   "outputs": [],
   "source": [
    "lines=list(set(data.line))"
   ]
  },
  {
   "cell_type": "code",
   "execution_count": null,
   "id": "010b0ad8",
   "metadata": {},
   "outputs": [],
   "source": [
    "data_line = data[data['line']==lines[0]].reset_index()\n",
    "tree= Tree({lines[0] + ' 0':data_line['seq_6'][0]})\n",
    "\n",
    "for number in data_line.index[1:]:\n",
    "    tree.add(lines[0] + ' '+str(number),data_line['seq_6'][number])\n",
    "\n",
    "for line in lines[:]:\n",
    "    if lines.index(line)%100==0:\n",
    "        print(lines.index(line))\n",
    "    data_line = data[data['line']==line].reset_index()\n",
    "\n",
    "    for number in data_line.index:\n",
    "        tree.add(line + ' '+str(number),data_line['seq_6'][number])"
   ]
  },
  {
   "cell_type": "code",
   "execution_count": 35,
   "id": "9606930d",
   "metadata": {
    "ExecuteTime": {
     "end_time": "2023-10-04T12:40:24.395559Z",
     "start_time": "2023-10-04T12:40:20.660870Z"
    }
   },
   "outputs": [],
   "source": [
    "Number_larva = pd.Series(np.zeros(len(lines)),index=lines)\n",
    "for line in lines:\n",
    "    Number_larva.loc[line] = len(data[data.loc[:,'line']==line])"
   ]
  },
  {
   "cell_type": "markdown",
   "id": "b3ac79f4",
   "metadata": {},
   "source": [
    "## Give node liste"
   ]
  },
  {
   "cell_type": "code",
   "execution_count": null,
   "id": "dcf72a6c",
   "metadata": {},
   "outputs": [],
   "source": [
    "Node = give_node_liste(tree,data,lines)"
   ]
  },
  {
   "cell_type": "markdown",
   "id": "3c2365ae",
   "metadata": {},
   "source": [
    "# Clustering"
   ]
  },
  {
   "cell_type": "markdown",
   "id": "0d6f5c7c",
   "metadata": {},
   "source": [
    "## Creation vector weight"
   ]
  },
  {
   "cell_type": "markdown",
   "id": "99b152b9",
   "metadata": {},
   "source": [
    "### tf - idf, frequency–inverse document frequency"
   ]
  },
  {
   "cell_type": "markdown",
   "id": "a4c023d1",
   "metadata": {},
   "source": [
    "Each line $l$ is considered to be a vector in the M-dimensional term space"
   ]
  },
  {
   "cell_type": "markdown",
   "id": "d9fa8a8e",
   "metadata": {},
   "source": [
    "$ \\vec{l} = \\{\\omega(1,l),\\omega(2,l),...,\\omega(M,l)\\} $ "
   ]
  },
  {
   "cell_type": "markdown",
   "id": "a47d219a",
   "metadata": {},
   "source": [
    "where $\\omega(i,l)$, is the term $tf-idf$ (frequency–inverse document frequency). \n",
    "\n",
    "<font color='blue'>$ \\omega(i,l) = (1 +\\log tf(i,l)\\log(1+N/df(i))$</font> \n",
    "with $N$ the number of lines, the term $tf(i,l)$ is the frequency of the $ith$ term in the line $l$ and $df(i)$ is the number of line containing the $ith$ term.\n",
    "\n",
    "$tf(i,l) = \\frac{n_i}{N_l}$, $n_i$ the number of larvae that pass through this node and $N_l$ the number of total larva in the line $l$."
   ]
  },
  {
   "cell_type": "code",
   "execution_count": null,
   "id": "a82567df",
   "metadata": {},
   "outputs": [],
   "source": [
    "Vector_weight = pd.DataFrame(np.zeros((len(lines))),index=lines)\n",
    "for line1 in lines:\n",
    "    idx = int(lines.index(line1))\n",
    "    for node in Node:\n",
    "# We keep only the sequences that appear at a frequency higher than 0.03\n",
    "        if node[1][idx]/Number_larva.loc[line1]>0.03:\n",
    "            Vector_weight.loc[line1,str(node[0])] = (np.log(1+node[1][idx]/Number_larva.loc[line1]))*np.log(1+len(lines)/node[2])   \n",
    "Vector_weight = Vector_weight.fillna(0.0)\n"
   ]
  },
  {
   "cell_type": "markdown",
   "id": "bef14fbb",
   "metadata": {},
   "source": [
    "### Matrix distance"
   ]
  },
  {
   "cell_type": "code",
   "execution_count": null,
   "id": "1ceb4fc2",
   "metadata": {},
   "outputs": [],
   "source": [
    "Mdistance = squareform(pdist(Vector_weight, 'cosine'))\n",
    "Mdistance = np.nan_to_num(Mdistance)"
   ]
  },
  {
   "cell_type": "code",
   "execution_count": null,
   "id": "b7c3228e",
   "metadata": {},
   "outputs": [],
   "source": [
    "Dmdistance = pd.DataFrame(Mdistance, index = Vector_weight.index, columns = Vector_weight.index)\n",
    "Dmdistance = Dmdistance.sort_index(axis='columns').sort_index(axis='index')"
   ]
  },
  {
   "cell_type": "markdown",
   "id": "c82392fe",
   "metadata": {},
   "source": [
    "## Hierarchical clustering"
   ]
  },
  {
   "cell_type": "code",
   "execution_count": null,
   "id": "0c6441d5",
   "metadata": {},
   "outputs": [],
   "source": [
    "data_out, Z = hierarchical_clusters(data = data, nb_dict=nb_dict, matrice_distance=Dmdistance, nb_cluster_max=20)"
   ]
  },
  {
   "cell_type": "markdown",
   "id": "dc529e3c",
   "metadata": {},
   "source": [
    "## Choose the number of cluster"
   ]
  },
  {
   "cell_type": "code",
   "execution_count": 38,
   "id": "d627a7e3",
   "metadata": {
    "ExecuteTime": {
     "end_time": "2023-10-04T12:51:51.432292Z",
     "start_time": "2023-10-04T12:51:51.429716Z"
    }
   },
   "outputs": [],
   "source": [
    "def sil_scores(X, Z, ts):\n",
    "    '''\n",
    "    Creates a list of silhouette scores for a predetermined range of clusters.\n",
    "    '''\n",
    "    scores = []\n",
    "    \n",
    "    for num_clust in ts:\n",
    "        scores.append(silhouette_score(X, fcluster(Z, t=num_clust, criterion='distance')))\n",
    "    \n",
    "    return scores"
   ]
  },
  {
   "cell_type": "code",
   "execution_count": null,
   "id": "9f3137a6",
   "metadata": {},
   "outputs": [],
   "source": [
    "scores = sil_scores(Dmdistance,Z,range(2,20))\n",
    "for t, s in zip(range(2,50), scores):\n",
    "    print(f\"With {t} clusters, the silhouette score is {s}\")"
   ]
  },
  {
   "cell_type": "markdown",
   "id": "0869033f",
   "metadata": {},
   "source": [
    "We choose a the distance which maximize the sihoulette score and maximises the number of clusters"
   ]
  },
  {
   "cell_type": "code",
   "execution_count": null,
   "id": "83a10a95",
   "metadata": {},
   "outputs": [],
   "source": [
    "distance_cluster = 8"
   ]
  },
  {
   "cell_type": "code",
   "execution_count": null,
   "id": "02ca71e0",
   "metadata": {},
   "outputs": [],
   "source": [
    "data_cluster = give_data_cluster(distance_cluster,data_out)"
   ]
  },
  {
   "cell_type": "markdown",
   "id": "b1e1435f",
   "metadata": {},
   "source": [
    "## Plot the clustering"
   ]
  },
  {
   "cell_type": "code",
   "execution_count": null,
   "id": "39093608",
   "metadata": {},
   "outputs": [],
   "source": [
    "labels_liste = ['']*len(Dmdistance.index)"
   ]
  },
  {
   "cell_type": "code",
   "execution_count": null,
   "id": "9f36d69c",
   "metadata": {},
   "outputs": [],
   "source": [
    "fig, axes = plt.subplots(figsize=(21, 3))\n",
    "dn  = dendrogram(Z, color_threshold=distance_cluster, labels=labels_liste, orientation=\"top\", ax=axes)"
   ]
  },
  {
   "cell_type": "markdown",
   "id": "8d6e08df",
   "metadata": {},
   "source": [
    "# Show sequences"
   ]
  },
  {
   "cell_type": "code",
   "execution_count": null,
   "id": "779725c2",
   "metadata": {},
   "outputs": [],
   "source": [
    "Vector_prob = pd.DataFrame(np.zeros((len(LINES))),index=LINES)\n",
    "for line1 in LINES:\n",
    "    idx = int(LINES.index(line1))\n",
    "    for node in Node:\n",
    "# We keep only the sequences that appear at a frequency higher than 0.03\n",
    "        if node[1][idx]/Number_larva.loc[line1]>0.03:\n",
    "            Vector_prob.loc[line1,str(node[0])] = node[1][idx]/Number_larva.loc[line1]\n",
    "Vector_prob = Vector_prob.fillna(0.0) "
   ]
  },
  {
   "cell_type": "code",
   "execution_count": null,
   "id": "71961427",
   "metadata": {},
   "outputs": [],
   "source": [
    "Panda_Weight = show_weight_sequences(data_cluster, data_out, Vector_prob, 6, mode='motif')"
   ]
  }
 ],
 "metadata": {
  "hide_input": false,
  "kernelspec": {
   "display_name": "Python 3",
   "language": "python",
   "name": "python3"
  },
  "language_info": {
   "codemirror_mode": {
    "name": "ipython",
    "version": 3
   },
   "file_extension": ".py",
   "mimetype": "text/x-python",
   "name": "python",
   "nbconvert_exporter": "python",
   "pygments_lexer": "ipython3",
   "version": "3.8.5"
  },
  "toc": {
   "base_numbering": 1,
   "nav_menu": {},
   "number_sections": true,
   "sideBar": true,
   "skip_h1_title": false,
   "title_cell": "Table of Contents",
   "title_sidebar": "Contents",
   "toc_cell": true,
   "toc_position": {},
   "toc_section_display": true,
   "toc_window_display": false
  }
 },
 "nbformat": 4,
 "nbformat_minor": 5
}
